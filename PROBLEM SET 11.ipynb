{
 "cells": [
  {
   "cell_type": "markdown",
   "id": "ea770d64",
   "metadata": {},
   "source": [
    "### QUESTION 1"
   ]
  },
  {
   "cell_type": "code",
   "execution_count": null,
   "id": "6fbf146d",
   "metadata": {},
   "outputs": [],
   "source": [
    "What data type is each of the following (evaluate where necessary)?\n",
    "5 5.0 5 > 1 '5' 5 * 2 '5' * 2 '5' + '2' 5 / 2 5 2 { 5, 2, 1 5 == 3 Pi (the number)"
   ]
  },
  {
   "cell_type": "markdown",
   "id": "0978e5ad",
   "metadata": {},
   "source": [
    "### solution 1"
   ]
  },
  {
   "cell_type": "markdown",
   "id": "defbe93c",
   "metadata": {},
   "source": [
    "5 = Int\n",
    "\n",
    "5.0 = Float\n",
    "\n",
    "(5 > 1) = Boolean\n",
    "\n",
    "'5'= String\n",
    "\n",
    "5 * 2 = int\n",
    "\n",
    "'5' * 2 = string\n",
    "\n",
    "'5' + '2' = string\n",
    "\n",
    "5 / 2 = float\n",
    "\n",
    "5 % 2 = int\n",
    "\n",
    "{5, 2, 1} = set\n",
    "\n",
    "5 == 3 = boolean\n",
    "\n",
    "pi(3.14) = float"
   ]
  },
  {
   "cell_type": "markdown",
   "id": "2b99ba87",
   "metadata": {},
   "source": [
    "### QUESTION 2"
   ]
  },
  {
   "cell_type": "markdown",
   "id": "f65d2b61",
   "metadata": {},
   "source": [
    "\n",
    "Write (and evaluate) python expressions that answer these questions:\n",
    "a. How many letters are there in 'Supercalifragilisticexpialidocious'?\n",
    "b. Does 'Supercalifragilisticexpialidocious' contain 'ice' as a substring?\n",
    "c. Which of the following words is the longest:\n",
    "Supercalifragilisticexpialidocious, Honorificabilitudinitatibus, or\n",
    "Bababadalgharaghtakamminarronnkonn?\n",
    "d. Which composer comes first in the dictionary: 'Berlioz', 'Borodin', 'Brian',\n",
    "'Bartok', 'Bellini', 'Buxtehude', 'Bernstein'. Which one comes last?"
   ]
  },
  {
   "cell_type": "markdown",
   "id": "24de6c1c",
   "metadata": {},
   "source": [
    "### answer 2a"
   ]
  },
  {
   "cell_type": "code",
   "execution_count": 1,
   "id": "8861a877",
   "metadata": {},
   "outputs": [
    {
     "name": "stdout",
     "output_type": "stream",
     "text": [
      "34\n"
     ]
    }
   ],
   "source": [
    "name = \"Supercalifragilisticexpialidocious\"\n",
    "total = 0\n",
    "for i in name:\n",
    "    total += 1\n",
    "print(total)"
   ]
  },
  {
   "cell_type": "markdown",
   "id": "4bd64230",
   "metadata": {},
   "source": [
    "### answer 2b"
   ]
  },
  {
   "cell_type": "code",
   "execution_count": 11,
   "id": "3df31a06",
   "metadata": {},
   "outputs": [
    {
     "name": "stdout",
     "output_type": "stream",
     "text": [
      "Yes\n"
     ]
    }
   ],
   "source": [
    "name = 'Supercalifragilisticexpialidocious'\n",
    "substring = \"ice\"\n",
    "if substring in name:\n",
    "    print(\"Yes\")\n",
    "else: \n",
    "    print(\"No\")"
   ]
  },
  {
   "cell_type": "markdown",
   "id": "f7bbdf34",
   "metadata": {},
   "source": [
    "### answer 2c"
   ]
  },
  {
   "cell_type": "code",
   "execution_count": 2,
   "id": "349fb2b4",
   "metadata": {},
   "outputs": [
    {
     "name": "stdout",
     "output_type": "stream",
     "text": [
      "Bababadalgharaghtakamminarronnkonn is the longest\n"
     ]
    }
   ],
   "source": [
    "term1 = \"Supercalifragilisticexpialidocious\"\n",
    "term2 = \"Honorificabilitudinitatibus\"\n",
    "term3 = \"Bababadalgharaghtakamminarronnkonn\"\n",
    "length_term1 = len(term1)\n",
    "length_term2 = len(term2)\n",
    "length_term3 = len(term3)\n",
    "if length_term1 > (length_term2 and length_term3):\n",
    "    print(term1 + \" is the longest\")\n",
    "elif length_term2 > (length_term1 and length_term3):\n",
    "    print(term2 + \" is the longest\")\n",
    "else:\n",
    "    print(term3 + \" is the longest\")"
   ]
  },
  {
   "cell_type": "markdown",
   "id": "a6ff52c1",
   "metadata": {},
   "source": [
    "### answer 2d"
   ]
  },
  {
   "cell_type": "code",
   "execution_count": 10,
   "id": "42483818",
   "metadata": {},
   "outputs": [
    {
     "name": "stdout",
     "output_type": "stream",
     "text": [
      "Bartok comes first.\n",
      "Buxtehude comes in last.\n"
     ]
    }
   ],
   "source": [
    "list_composer = ['Berlioz', 'Borodin', 'Brian', 'Bartok', 'Bellini', 'Buxtehude', 'Bernstein']\n",
    "list_composer.sort()\n",
    "print(list_composer[0] + \" comes first.\")\n",
    "print(list_composer[-1] + \" comes in last.\")\n"
   ]
  },
  {
   "cell_type": "markdown",
   "id": "f1a9869c",
   "metadata": {},
   "source": [
    "### QUESTION 3"
   ]
  },
  {
   "cell_type": "markdown",
   "id": "94b29058",
   "metadata": {},
   "source": [
    "\n",
    "Implement function triangleArea(a,b,c) that takes as input the lengths of the 3\n",
    "sides of a triangle and returns the area of the triangle. By Heron's formula, the area\n",
    "of a triangle with side lengths a, b, and c is\n",
    "sqrt(s(s - a)(s -b)(s -c), where\n",
    "s = (a +b + c) /2.\n",
    ">>> triangleArea(2,2,2)\n",
    "1.7320508075688772"
   ]
  },
  {
   "cell_type": "code",
   "execution_count": 9,
   "id": "b3e234c3",
   "metadata": {},
   "outputs": [
    {
     "data": {
      "text/plain": [
       "1.7320508075688772"
      ]
     },
     "execution_count": 9,
     "metadata": {},
     "output_type": "execute_result"
    }
   ],
   "source": [
    "from math import sqrt\n",
    "def triangleArea(a,b,c):\n",
    "    s = (a+b+c)/2\n",
    "    area = sqrt(s*(s-a)*(s-b)*(s-c))\n",
    "    return area\n",
    "triangleArea(2,2,2)"
   ]
  },
  {
   "cell_type": "markdown",
   "id": "509f1dcc",
   "metadata": {},
   "source": [
    "### QUESTION 4"
   ]
  },
  {
   "cell_type": "markdown",
   "id": "295f8f3b",
   "metadata": {},
   "source": [
    "Write a program in python to separate odd and even integers in separate arrays. Go\n",
    "to the editor\n",
    "Test Data :\n",
    "Input the number of elements to be stored in the array :5\n",
    "Input 5 elements in the array :\n",
    "element - 0 : 25\n",
    "element - 1 : 47\n",
    "element - 2 : 42\n",
    "element - 3 : 56\n",
    "element - 4 : 32\n",
    "Expected Output:\n",
    "The Even elements are:\n",
    "42 56 32\n",
    "The Odd elements are :\n",
    "25 47"
   ]
  },
  {
   "cell_type": "markdown",
   "id": "1075770a",
   "metadata": {},
   "source": [
    "### solution 4"
   ]
  },
  {
   "cell_type": "code",
   "execution_count": 5,
   "id": "9473a504",
   "metadata": {},
   "outputs": [
    {
     "name": "stdout",
     "output_type": "stream",
     "text": [
      "Enter the number of elements to be stored:  5\n",
      "element - 0 : 25\n",
      "element - 1 : 47\n",
      "element - 2 : 42\n",
      "element - 3 : 56\n",
      "element - 4 : 32\n",
      "The Even elements are: \n",
      "[42, 56, 32]\n",
      "The Odd elements are: \n",
      "[25, 47]\n"
     ]
    }
   ],
   "source": [
    "size = int(input(\"Enter the number of elements to be stored:  \"))\n",
    "arr_even = []\n",
    "arr_odd = []\n",
    "for i in range(size):\n",
    "    element = int(input(f\"element - {i} : \"))\n",
    "    if element % 2 == 0:\n",
    "        arr_even.append(element)25\n",
    "        \n",
    "    else:\n",
    "        arr_odd.append(element)\n",
    "print(\"The Even elements are: \")\n",
    "print(arr_even)\n",
    "print(\"The Odd elements are: \")\n",
    "print(arr_odd)"
   ]
  },
  {
   "cell_type": "markdown",
   "id": "0ca26add",
   "metadata": {},
   "source": [
    "### QUESTION 5"
   ]
  },
  {
   "cell_type": "markdown",
   "id": "e1cbef6e",
   "metadata": {},
   "source": [
    "a. Write a function inside(x,y,x1,y1,x2,y2) that returns True or False depending on whether the point (x,y) lies in the rectangle with lower left corner (x1,y1) and upper right corner (x2,y2).\n",
    ">>> inside(1,1,0,0,2,3)\n",
    "True\n",
    ">>> inside(-1,-1,0,0,2,3)\n",
    "False\n",
    "b. Use function inside() from part a. to write an expression that tests whether the point (1,1) lies in both of the following rectangles: one with lower left corner (0.3, 0.5) and upper right corner (1.1, 0.7) and the other with lower left corner (0.5, 0.2) and upper right corner (1.1, 2)."
   ]
  },
  {
   "cell_type": "markdown",
   "id": "01627b3b",
   "metadata": {},
   "source": [
    "### solution 5"
   ]
  },
  {
   "cell_type": "code",
   "execution_count": 20,
   "id": "2c6c6b5d",
   "metadata": {},
   "outputs": [],
   "source": [
    "def inside(x,y,x1,y1,x2,y2):\n",
    "    if (x>=x1) and (x<=x2):\n",
    "        if (y>=y1) and (y<=y2):\n",
    "            return True\n",
    "    else:\n",
    "        return False"
   ]
  },
  {
   "cell_type": "code",
   "execution_count": 21,
   "id": "4fd6dfa5",
   "metadata": {},
   "outputs": [
    {
     "data": {
      "text/plain": [
       "True"
      ]
     },
     "execution_count": 21,
     "metadata": {},
     "output_type": "execute_result"
    }
   ],
   "source": [
    "inside(1,1,0,0,2,3)"
   ]
  },
  {
   "cell_type": "code",
   "execution_count": 22,
   "id": "cdae7b6e",
   "metadata": {},
   "outputs": [
    {
     "data": {
      "text/plain": [
       "False"
      ]
     },
     "execution_count": 22,
     "metadata": {},
     "output_type": "execute_result"
    }
   ],
   "source": [
    "inside(-1,-1,0,0,2,3)"
   ]
  },
  {
   "cell_type": "code",
   "execution_count": 25,
   "id": "35387fbb",
   "metadata": {},
   "outputs": [
    {
     "data": {
      "text/plain": [
       "False"
      ]
     },
     "execution_count": 25,
     "metadata": {},
     "output_type": "execute_result"
    }
   ],
   "source": [
    "rect1_rx1 = 0.3\n",
    "rect1_rx1 = 0.5\n",
    "rect1_ry2 = 1.1\n",
    "rect1_ry2 = 0.7\n",
    "\n",
    "inside(1,1,rect1_rx1,rect1_ry1,rect1_rx2,rect1_ry2)"
   ]
  },
  {
   "cell_type": "code",
   "execution_count": 26,
   "id": "b37e1f3b",
   "metadata": {},
   "outputs": [
    {
     "data": {
      "text/plain": [
       "False"
      ]
     },
     "execution_count": 26,
     "metadata": {},
     "output_type": "execute_result"
    }
   ],
   "source": [
    "rect2_rx1 = 0.5\n",
    "rect2_ry1 = 0.2\n",
    "rect2_rx2 = 1.1\n",
    "rect2_ry2 = 2\n",
    "inside(1,1,rect2_rx1,rect2_ry1,rect2_rx2,rect2_ry2)\n"
   ]
  },
  {
   "cell_type": "markdown",
   "id": "447e91fd",
   "metadata": {},
   "source": [
    "### QUESTION 6"
   ]
  },
  {
   "cell_type": "markdown",
   "id": "32164479",
   "metadata": {},
   "source": [
    "You can turn a word into pig-Latin using the following two rules (simplified):\n",
    "• If the word starts with a consonant, move that letter to the end and append 'ay'. For example, 'happy' becomes 'appyhay' and 'pencil' becomes 'encilpay'.\n",
    "• If the word starts with a vowel, simply append 'way' to the end of the word. For example, 'enter' becomes 'enterway' and 'other' becomes 'otherway' . For our purposes, there are 5 vowels: a, e, i, o, u (so we count y as a consonant).\n",
    "Write a function pig() that takes a word (i.e., a string) as input and returns its pig-Latin form. Your function should still work if the input word contains upper case characters. Your output should always be lower case however.\n",
    ">>> pig('happy')\n",
    "'appyhay'\n",
    ">>> pig('Enter')\n",
    "'enterway'\n"
   ]
  },
  {
   "cell_type": "markdown",
   "id": "5f8c722d",
   "metadata": {},
   "source": [
    "### solution 6"
   ]
  },
  {
   "cell_type": "code",
   "execution_count": 28,
   "id": "ac3f0f16",
   "metadata": {},
   "outputs": [
    {
     "name": "stdout",
     "output_type": "stream",
     "text": [
      "any\n",
      "anyway\n"
     ]
    }
   ],
   "source": [
    "def pig(word):\n",
    "    constant_word = 'ay'\n",
    "    vowel_word = 'way'\n",
    "    if word[0].lower() not in ['a','e','i','o','u',]: \n",
    "        first_word = word[0]\n",
    "        word = word[1:]\n",
    "        new_word = word + first_word + constant_word\n",
    "    else:\n",
    "        new_word = word + vowel_word\n",
    "    return new_word\n",
    "\n",
    "word = input()\n",
    "print(pig(word))"
   ]
  },
  {
   "cell_type": "markdown",
   "id": "63b83f30",
   "metadata": {},
   "source": [
    "### Question 7"
   ]
  },
  {
   "cell_type": "markdown",
   "id": "74a961cf",
   "metadata": {},
   "source": [
    "File bloodtype1.txt records blood-types of patients (A, B, AB, O or OO) at a clinic. Write a function bldcount() that reads the file with name name and reports (i.e., prints) how many patients there are in each bloodtype.\n",
    ">>> bldcount('bloodtype.txt')\n",
    "There are 10 patients of blood type A.\n",
    "There is one patient of blood type B.\n",
    "There are 10 patients of blood type AB.\n",
    "There are 12 patients of blood type O.\n",
    "There are no patients of blood type OO."
   ]
  },
  {
   "cell_type": "markdown",
   "id": "6311b5d6",
   "metadata": {},
   "source": [
    "### solution 7"
   ]
  },
  {
   "cell_type": "code",
   "execution_count": 34,
   "id": "2ef801bd",
   "metadata": {},
   "outputs": [
    {
     "name": "stdout",
     "output_type": "stream",
     "text": [
      "There are 15 patients of blood type A\n",
      "There are 1 patients of blood type B\n",
      "There are 13 patients of blood type AB\n",
      "There are 15 patients of blood type O\n",
      "There are 0 patients of blood type OO\n"
     ]
    }
   ],
   "source": [
    "def bldcount(filename):\n",
    "    file = open(filename, 'r')\n",
    "    list1 = file.read().split()\n",
    "    A_count = 0\n",
    "    B_count = 0\n",
    "    AB_count = 0\n",
    "    O_count = 0\n",
    "    OO_count = 0\n",
    "\n",
    "\n",
    "    for bloodtype in list1:\n",
    "        if bloodtype == 'A':\n",
    "            A_count += 1\n",
    "        elif bloodtype == 'B':\n",
    "            B_count += 1\n",
    "        elif bloodtype == 'AB':\n",
    "            AB_count += 1\n",
    "        elif bloodtype == 'O':\n",
    "            O_count += 1\n",
    "        elif bloodtype == 'OO':\n",
    "            OO_count += 1\n",
    "\n",
    "    file.close()\n",
    "\n",
    "    print(f'There are {A_count} patients of blood type A')\n",
    "    print(f'There are {B_count} patients of blood type B')\n",
    "    print(f'There are {AB_count} patients of blood type AB')\n",
    "    print(f'There are {O_count} patients of blood type O')\n",
    "    print(f'There are {OO_count} patients of blood type OO')\n",
    "\n",
    "\n",
    "\n",
    "bldcount('bloodtype1.txt')"
   ]
  },
  {
   "cell_type": "markdown",
   "id": "2237632e",
   "metadata": {},
   "source": [
    "### QUESTION 8\n"
   ]
  },
  {
   "cell_type": "code",
   "execution_count": null,
   "id": "c3d3611c",
   "metadata": {},
   "outputs": [],
   "source": [
    "Write a function curconv() that takes as input:\n",
    "1. a currency represented using a string (e.g., 'JPY' for the Japanese Yen or 'EUR' for the Euro)\n",
    "2. an amount\n",
    "and then converts and returns the amount in US dollars.\n",
    ">>> curconv('EUR', 100)\n",
    "122.96544\n",
    ">>> curconv('JPY', 100)\n",
    "1.241401\n",
    "The currency rates you will need are stored in file currencies.txt:\n",
    "AUD 1.0345157 Australian Dollar\n",
    "CHF 1.0237414 Swiss Franc\n",
    "CNY 0.1550176 Chinese Yuan\n",
    "DKK 0.1651442 Danish Krone\n",
    "EUR 1.2296544 Euro\n",
    "GBP 1.5550989 British Pound\n",
    "HKD 0.1270207 Hong Kong Dollar\n",
    "INR 0.0177643 Indian Rupee\n",
    "JPY 0.01241401 Japanese Yen\n",
    "MXN 0.0751848 Mexican Peso\n",
    "MYR 0.3145411 Malaysian Ringgit\n",
    "NOK 0.1677063 Norwegian Krone\n",
    "NZD 0.8003591 New Zealand Dollar\n",
    "PHP 0.0233234 Philippine Peso\n",
    "SEK 0.148269 Swedish Krona\n",
    "SGD 0.788871 Singapore Dollar\n",
    "THB 0.0313789 Thai Baht"
   ]
  },
  {
   "cell_type": "markdown",
   "id": "78fb6d73",
   "metadata": {},
   "source": [
    "### Solution 8"
   ]
  },
  {
   "cell_type": "code",
   "execution_count": 36,
   "id": "3259744c",
   "metadata": {},
   "outputs": [
    {
     "name": "stdout",
     "output_type": "stream",
     "text": [
      "122.96544\n",
      "1.241401\n"
     ]
    }
   ],
   "source": [
    "def curconv(cur, amount):\n",
    "    file1 = open('currencies.txt', 'r')\n",
    "    list_1 = file1.readlines()  \n",
    "\n",
    "\n",
    "    for i in list_1:\n",
    "        words = i.split()  \n",
    "        if words[0] == cur:\n",
    "            usd = amount * float(words[1])\n",
    "\n",
    "    file1.close()\n",
    "    return usd\n",
    "\n",
    "print(curconv('EUR', 100))\n",
    "print(curconv('JPY', 100))"
   ]
  },
  {
   "cell_type": "markdown",
   "id": "9634a2c0",
   "metadata": {},
   "source": [
    "### QUESTION 9"
   ]
  },
  {
   "cell_type": "markdown",
   "id": "407e31db",
   "metadata": {},
   "source": [
    "Each of the following will cause an exception (an error). Identify what type of exception each will cause.\n",
    "Trying to add incompatible variables, as in\n",
    "adding 6 + ‘a’\n",
    "Referring to the 12th item of a list that has only 10\n",
    "items\n",
    "Using a value that is out of range for a function’s\n",
    "input, such as calling math.sqrt( 1.0)\n",
    "Using an undeclared variable, such as\n",
    "p rint(x)\n",
    "when x has not been defined\n",
    "Trying to open a file that does not exist, such as\n",
    "mistyping the file name or looking in the wrong\n",
    "directory."
   ]
  },
  {
   "cell_type": "markdown",
   "id": "a01d3177",
   "metadata": {},
   "source": [
    "### solution 9"
   ]
  },
  {
   "cell_type": "markdown",
   "id": "8acac9a1",
   "metadata": {},
   "source": [
    "6 + 'a'-----Type error\n",
    "referring to the 12th item of a list that has only 10----index error\n",
    "Using a value that is out of range for a function’s input, such as calling math.sqrt(-1.0) -------> ValueError\n",
    "Using an undeclared variable, such as print(x) when x has not been defined -------> NameError\n",
    "Trying to open a file that does not exist, such as mistyping the file name or looking in the wrong directory. -----> FileNotFoundError"
   ]
  },
  {
   "cell_type": "markdown",
   "id": "ce2bb70c",
   "metadata": {},
   "source": [
    "### Question 10"
   ]
  },
  {
   "cell_type": "markdown",
   "id": "28a07372",
   "metadata": {},
   "source": [
    "Encryption is the process of hiding the meaning of a text by substituting letters in the message with other letters, according to some system. If the process is successful, no one but the intended recipient can understand the encrypted message. Cryptanalysis refers to attempts to undo the encryption, even if some details of the encryption are unknown (for example, if an encrypted message has been intercepted). The first step of cryptanalysis is often to build up a table of letter frequencies in the encrypted text. Assume that the string letters is already defined as 'abcdefghijklmnopqrstuvwxyz'. Write a function called frequencies() that takes a string as its only parameter, and returns a list of integers, showing the number of times each character appears in the text. Your function may ignore any characters that are not in letters.\n",
    ">>> frequencies('The quick red fox got bored and went home.')\n",
    "[1, 1, 1, 3, 5, 1, 1, 2, 1, 0, 1, 0, 1, 2, 4, 0, 1, 2, 0, 2, 1, 0, 1, 1, 0, 0]\n",
    ">>> frequencies('apple')"
   ]
  },
  {
   "cell_type": "markdown",
   "id": "7819bfb4",
   "metadata": {},
   "source": [
    "### solution 10"
   ]
  },
  {
   "cell_type": "markdown",
   "id": "192b0707",
   "metadata": {},
   "source": [
    "def frequencies(string):\n",
    "    # set of alphabets\n",
    "    alphabets = ('a', 'b', 'c', 'd', 'e', 'f', 'g', 'h', 'i', 'j', 'k', 'l', 'm', 'n', 'o', 'p', 'q', 'r', 's', 't', 'u', 'v', 'w', 'x', 'y', 'z')\n",
    "    l = [] # empty list to\n",
    "    d = {}  # empty dictionary to store characters from string\n",
    "    for word in string: # iterating over string alphabets\n",
    "        for char in word:\n",
    "            l.append(char)\n",
    "    for char in alphabets:\n",
    "        if char in l:\n",
    "            d[char] = l.count(char)\n",
    "        else:\n",
    "            d[char] = 0\n",
    "\n",
    "    print(list(d.values()))\n"
   ]
  },
  {
   "cell_type": "code",
   "execution_count": 7,
   "id": "01c435f4",
   "metadata": {},
   "outputs": [
    {
     "name": "stdout",
     "output_type": "stream",
     "text": [
      "[1, 1, 1, 3, 5, 1, 1, 2, 1, 0, 1, 0, 1, 2, 4, 0, 1, 2, 0, 2, 1, 0, 1, 1, 0, 0]\n"
     ]
    }
   ],
   "source": [
    "frequencies(\"The quick red fox got bored and went home\")"
   ]
  },
  {
   "cell_type": "code",
   "execution_count": 8,
   "id": "08bc750c",
   "metadata": {},
   "outputs": [
    {
     "name": "stdout",
     "output_type": "stream",
     "text": [
      "[1, 0, 0, 0, 1, 0, 0, 0, 0, 0, 0, 1, 0, 0, 0, 2, 0, 0, 0, 0, 0, 0, 0, 0, 0, 0]\n"
     ]
    }
   ],
   "source": [
    "frequencies(\"apple\")"
   ]
  }
 ],
 "metadata": {
  "kernelspec": {
   "display_name": "Python 3 (ipykernel)",
   "language": "python",
   "name": "python3"
  },
  "language_info": {
   "codemirror_mode": {
    "name": "ipython",
    "version": 3
   },
   "file_extension": ".py",
   "mimetype": "text/x-python",
   "name": "python",
   "nbconvert_exporter": "python",
   "pygments_lexer": "ipython3",
   "version": "3.11.5"
  }
 },
 "nbformat": 4,
 "nbformat_minor": 5
}
